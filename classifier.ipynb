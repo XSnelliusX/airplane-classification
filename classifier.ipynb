{
 "cells": [
  {
   "cell_type": "code",
   "execution_count": null,
   "metadata": {
    "_cell_guid": "b1076dfc-b9ad-4769-8c92-a6c4dae69d19",
    "_uuid": "8f2839f25d086af736a60e9eeb907d3b93b6e0e5",
    "execution": {
     "iopub.execute_input": "2024-11-09T20:01:05.625558Z",
     "iopub.status.busy": "2024-11-09T20:01:05.625256Z",
     "iopub.status.idle": "2024-11-09T20:01:19.682207Z",
     "shell.execute_reply": "2024-11-09T20:01:19.681193Z",
     "shell.execute_reply.started": "2024-11-09T20:01:05.625524Z"
    },
    "trusted": true
   },
   "outputs": [],
   "source": [
    "import os\n",
    "import numpy as np \n",
    "import pandas as pd\n",
    "import matplotlib.pyplot as plt\n",
    "\n",
    "import tensorflow as tf\n",
    "from tensorflow.keras.layers import Dense, BatchNormalization, Dropout\n",
    "from tensorflow.keras.optimizers import Adamax\n",
    "from tensorflow.keras.callbacks import ModelCheckpoint\n",
    "from tensorflow.keras.models import Sequential, load_model\n",
    "from tensorflow.keras.preprocessing.image import ImageDataGenerator\n",
    "\n",
    "from sklearn.model_selection import train_test_split\n",
    "from sklearn.metrics import confusion_matrix, classification_report"
   ]
  },
  {
   "cell_type": "markdown",
   "metadata": {},
   "source": [
    "## Data Loading"
   ]
  },
  {
   "cell_type": "markdown",
   "metadata": {},
   "source": [
    "### Store Data into DataFrame"
   ]
  },
  {
   "cell_type": "code",
   "execution_count": null,
   "metadata": {
    "execution": {
     "iopub.execute_input": "2024-11-09T20:01:19.684309Z",
     "iopub.status.busy": "2024-11-09T20:01:19.68378Z",
     "iopub.status.idle": "2024-11-09T20:01:30.753856Z",
     "shell.execute_reply": "2024-11-09T20:01:30.752935Z",
     "shell.execute_reply.started": "2024-11-09T20:01:19.684275Z"
    },
    "trusted": true
   },
   "outputs": [],
   "source": [
    "data_dir = '../../crop'\n",
    "\n",
    "filepaths = []\n",
    "labels = []\n",
    "\n",
    "\n",
    "folds = os.listdir(data_dir)\n",
    "\n",
    "for fold in folds:\n",
    "    foldpath = os.path.join(data_dir, fold)\n",
    "    \n",
    "    files = os.listdir(foldpath)\n",
    "    for f in files:\n",
    "        fpath = os.path.join(foldpath, f)\n",
    "        \n",
    "        filepaths.append(fpath)\n",
    "        labels.append(fold)\n",
    "        \n",
    "\n",
    "data_dir = pd.DataFrame(data={'filepaths':filepaths, 'labels':labels})\n",
    "data_dir\n"
   ]
  },
  {
   "cell_type": "markdown",
   "metadata": {},
   "source": [
    "### Splitt the data"
   ]
  },
  {
   "cell_type": "code",
   "execution_count": null,
   "metadata": {
    "execution": {
     "iopub.execute_input": "2024-11-09T20:01:30.755432Z",
     "iopub.status.busy": "2024-11-09T20:01:30.755129Z",
     "iopub.status.idle": "2024-11-09T20:01:30.764492Z",
     "shell.execute_reply": "2024-11-09T20:01:30.76362Z",
     "shell.execute_reply.started": "2024-11-09T20:01:30.755394Z"
    },
    "trusted": true
   },
   "outputs": [],
   "source": [
    "train_df, dummy_df = train_test_split(data_dir, test_size=0.2, shuffle=True, random_state=42)\n",
    "val_df, test_df = train_test_split(dummy_df, test_size=0.5, shuffle=True, random_state=42)"
   ]
  },
  {
   "cell_type": "markdown",
   "metadata": {},
   "source": [
    "### Data Generators"
   ]
  },
  {
   "cell_type": "code",
   "execution_count": null,
   "metadata": {
    "execution": {
     "iopub.execute_input": "2024-11-09T20:01:30.767309Z",
     "iopub.status.busy": "2024-11-09T20:01:30.76693Z",
     "iopub.status.idle": "2024-11-09T20:01:54.529583Z",
     "shell.execute_reply": "2024-11-09T20:01:54.528647Z",
     "shell.execute_reply.started": "2024-11-09T20:01:30.767267Z"
    },
    "trusted": true
   },
   "outputs": [],
   "source": [
    "train_gen = ImageDataGenerator(\n",
    "    rotation_range=20,\n",
    "    width_shift_range=0.1,\n",
    "    height_shift_range=0.1,\n",
    "    horizontal_flip=True,\n",
    "    vertical_flip=True,\n",
    "    shear_range=0.2,\n",
    "    zoom_range=0.2,\n",
    "    brightness_range=[0.8,1.2]\n",
    ")\n",
    "test_gen = ImageDataGenerator()\n",
    "\n",
    "\n",
    "train_gen = train_gen.flow_from_dataframe(train_df, x_col='filepaths', y_col='labels', target_size=(224, 224),\n",
    "                                      color_mode='rgb', class_mode='categorical', batch_size=16)\n",
    "\n",
    "val_gen = test_gen.flow_from_dataframe(val_df, x_col='filepaths', y_col='labels', target_size=(224, 224),\n",
    "                                   color_mode='rgb', class_mode='categorical', batch_size=16)\n",
    "\n",
    "test_gen = test_gen.flow_from_dataframe(test_df, x_col='filepaths', y_col='labels', target_size=(224, 224),\n",
    "                                   color_mode='rgb', class_mode='categorical', batch_size=16)"
   ]
  },
  {
   "cell_type": "markdown",
   "metadata": {},
   "source": [
    "## Training"
   ]
  },
  {
   "cell_type": "code",
   "execution_count": null,
   "metadata": {
    "execution": {
     "iopub.execute_input": "2024-11-09T20:01:54.531012Z",
     "iopub.status.busy": "2024-11-09T20:01:54.530706Z",
     "iopub.status.idle": "2024-11-09T20:01:59.364312Z",
     "shell.execute_reply": "2024-11-09T20:01:59.363416Z",
     "shell.execute_reply.started": "2024-11-09T20:01:54.530979Z"
    },
    "trusted": true
   },
   "outputs": [],
   "source": [
    "# Load EfficientNetB3 as base model\n",
    "base_model = tf.keras.applications.EfficientNetV2L(\n",
    "    include_top=False,\n",
    "    weights=\"imagenet\",\n",
    "    input_shape=(224, 224, 3),\n",
    "    pooling=\"max\"\n",
    ")\n",
    "\n",
    "# Build the model\n",
    "model = Sequential([\n",
    "    base_model,\n",
    "    BatchNormalization(),\n",
    "    \n",
    "    # Add a Dense layer with Batch Normalization and Dropout\n",
    "    Dense(256, activation='relu', kernel_regularizer=tf.keras.regularizers.l2(0.01)),\n",
    "    Dropout(0.2),\n",
    "    \n",
    "    Dense(74, activation='softmax')  # 74 classes\n",
    "])\n",
    "\n",
    "# Compile the model\n",
    "model.compile(optimizer=Adamax(learning_rate=0.001),\n",
    "              loss='categorical_crossentropy',\n",
    "              metrics=['accuracy'])\n",
    "\n",
    "model.summary()\n"
   ]
  },
  {
   "cell_type": "code",
   "execution_count": null,
   "metadata": {},
   "outputs": [],
   "source": [
    "# Define the model checkpoint\n",
    "checkpoint = ModelCheckpoint('best_model.keras', \n",
    "                             monitor='val_accuracy', \n",
    "                             save_best_only=True, \n",
    "                             mode='max', \n",
    "                             verbose=1)\n",
    "\n",
    "# Early stopping\n",
    "early_stopping = tf.keras.callbacks.EarlyStopping(\n",
    "    monitor='val_accuracy',\n",
    "    patience=5,\n",
    "    verbose=1,\n",
    "    restore_best_weights=True\n",
    ")\n",
    "\n",
    "# reduce learning rate\n",
    "reduce_lr = tf.keras.callbacks.ReduceLROnPlateau(\n",
    "    monitor='val_accuracy',\n",
    "    factor=0.5,\n",
    "    patience=3,\n",
    "    verbose=1,\n",
    "    min_lr=1e-6\n",
    ")\n",
    "\n",
    "# Learning rate scheduler\n",
    "def scheduler(epoch, lr):\n",
    "    if epoch < 10:\n",
    "        return lr\n",
    "    return lr * 0.9\n",
    "\n",
    "lr_scheduler = tf.keras.callbacks.LearningRateScheduler(scheduler)\n",
    "\n",
    "# TensorBoard\n",
    "tensorboard = tf.keras.callbacks.TensorBoard(\n",
    "    log_dir='logs',\n",
    "    histogram_freq=1,\n",
    "    write_graph=True,\n",
    "    write_images=True,\n",
    "    )\n",
    "\n",
    "# CSV Logger\n",
    "csv_logger = tf.keras.callbacks.CSVLogger('training.log', append=True)\n",
    "\n",
    "callbacks = [checkpoint, early_stopping, reduce_lr, lr_scheduler, tensorboard, csv_logger]"
   ]
  },
  {
   "cell_type": "code",
   "execution_count": null,
   "metadata": {
    "execution": {
     "iopub.execute_input": "2024-11-09T20:01:59.365883Z",
     "iopub.status.busy": "2024-11-09T20:01:59.365535Z",
     "iopub.status.idle": "2024-11-09T21:26:45.169169Z",
     "shell.execute_reply": "2024-11-09T21:26:45.1683Z",
     "shell.execute_reply.started": "2024-11-09T20:01:59.365849Z"
    },
    "trusted": true
   },
   "outputs": [],
   "source": [
    "history=model.fit(train_gen, validation_data=val_gen, epochs=50, callbacks=callbacks)"
   ]
  },
  {
   "cell_type": "code",
   "execution_count": null,
   "metadata": {
    "execution": {
     "iopub.execute_input": "2024-11-09T21:26:45.170815Z",
     "iopub.status.busy": "2024-11-09T21:26:45.17049Z",
     "iopub.status.idle": "2024-11-09T21:26:45.835997Z",
     "shell.execute_reply": "2024-11-09T21:26:45.835054Z",
     "shell.execute_reply.started": "2024-11-09T21:26:45.170782Z"
    },
    "trusted": true
   },
   "outputs": [],
   "source": [
    "# Define needed variables\n",
    "tr_acc = history.history['accuracy']\n",
    "tr_loss = history.history['loss']\n",
    "val_acc = history.history['val_accuracy']\n",
    "val_loss = history.history['val_loss']\n",
    "index_loss = np.argmin(val_loss)\n",
    "val_lowest = val_loss[index_loss]\n",
    "index_acc = np.argmax(val_acc)\n",
    "acc_highest = val_acc[index_acc]\n",
    "\n",
    "loss_label = f'best epoch= {str(index_loss + 1)}'\n",
    "acc_label = f'best epoch= {str(index_acc + 1)}'\n",
    "\n",
    "Epochs = [i+1 for i in range(len(tr_acc))]\n",
    "\n",
    "# Plot training history\n",
    "plt.figure(figsize= (20, 8))\n",
    "plt.style.use('fivethirtyeight')\n",
    "\n",
    "plt.subplot(1, 2, 1)\n",
    "plt.plot(Epochs, tr_loss, 'orange', label= 'Training loss')\n",
    "plt.plot(Epochs, val_loss, label= 'Validation loss')\n",
    "plt.scatter(index_loss + 1, val_lowest, s= 150, c= 'red', label= loss_label)\n",
    "plt.title('Training and Validation Loss')\n",
    "plt.xlabel('Epochs')\n",
    "plt.ylabel('Loss')\n",
    "plt.legend()\n",
    "\n",
    "plt.subplot(1, 2, 2)\n",
    "plt.plot(Epochs, tr_acc, 'orange', label= 'Training Accuracy')\n",
    "plt.plot(Epochs, val_acc, label= 'Validation Accuracy')\n",
    "plt.scatter(index_acc + 1 , acc_highest, s= 150, c= 'red', label= acc_label)\n",
    "plt.title('Training and Validation Accuracy')\n",
    "plt.xlabel('Epochs')\n",
    "plt.ylabel('Accuracy')\n",
    "plt.legend()\n",
    "\n",
    "plt.tight_layout\n",
    "plt.show()"
   ]
  },
  {
   "cell_type": "code",
   "execution_count": null,
   "metadata": {
    "execution": {
     "iopub.execute_input": "2024-11-09T21:26:45.8375Z",
     "iopub.status.busy": "2024-11-09T21:26:45.837191Z",
     "iopub.status.idle": "2024-11-09T21:29:11.983586Z",
     "shell.execute_reply": "2024-11-09T21:29:11.982648Z",
     "shell.execute_reply.started": "2024-11-09T21:26:45.837467Z"
    },
    "trusted": true
   },
   "outputs": [],
   "source": [
    "train_score = model.evaluate(train_gen)\n",
    "test_score = model.evaluate(test_gen)\n",
    "valid_score = model.evaluate(val_gen)\n",
    "\n",
    "pd.DataFrame({\n",
    "    '': ['Loss','Accuracy'],\n",
    "    'Train score': [train_score[0], f'{round(train_score[1] * 100, 2)}%'],\n",
    "    'Valid score': [valid_score[0], f'{round(valid_score[1] * 100, 2)}%'],\n",
    "    'Test score': [test_score[0], f'{round(test_score[1] * 100, 2)}%']})"
   ]
  }
 ],
 "metadata": {
  "kaggle": {
   "accelerator": "none",
   "dataSources": [
    {
     "datasetId": 821893,
     "sourceId": 9727770,
     "sourceType": "datasetVersion"
    }
   ],
   "dockerImageVersionId": 30786,
   "isGpuEnabled": false,
   "isInternetEnabled": false,
   "language": "python",
   "sourceType": "notebook"
  },
  "kernelspec": {
   "display_name": "introai",
   "language": "python",
   "name": "python3"
  },
  "language_info": {
   "codemirror_mode": {
    "name": "ipython",
    "version": 3
   },
   "file_extension": ".py",
   "mimetype": "text/x-python",
   "name": "python",
   "nbconvert_exporter": "python",
   "pygments_lexer": "ipython3",
   "version": "3.10.15"
  }
 },
 "nbformat": 4,
 "nbformat_minor": 4
}
